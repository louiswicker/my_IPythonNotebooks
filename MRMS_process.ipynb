{
 "cells": [
  {
   "cell_type": "code",
   "execution_count": 3,
   "metadata": {
    "collapsed": false
   },
   "outputs": [],
   "source": [
    "def plotMRMS(filename = None, z = None, output = None, directory = \"./\", show = True, debug=False, shapefiles=None, thin=3):\n",
    "    from netcdftime import utime\n",
    "    from mpl_toolkits.axes_grid.inset_locator import inset_axes\n",
    "    from mpl_toolkits.basemap import Basemap\n",
    "    import ctables\n",
    "    \n",
    "    sec_utime = utime(\"seconds since 1970-01-01 00:00:00\")\n",
    "    \n",
    "    f = ncdf.Dataset(filename, \"r\")\n",
    "    dbz = f.variables['mrefl_mosaic'][0,:,::thin,::thin]\n",
    "    dbz = N.ma.masked_array(dbz, mask=(dbz == f.MissingData))\n",
    "    \n",
    "    hgt = f.variables['Ht'][:]\n",
    "    lat = f.variables['Lat'][::thin]   \n",
    "    lon = f.variables['Lon'][::thin]\n",
    "    timestamp = f.variables['time'][0] \n",
    "    \n",
    "    if debug:\n",
    "        print lat[0],lat[-1],lat.shape\n",
    "        print lon[0],lon[-1],lon.shape\n",
    "        print dbz.shape\n",
    "\n",
    "    if z <= 0:\n",
    "        k = -z\n",
    "    else:\n",
    "        kz = hgt[hgt >= z]\n",
    "        if kz.size > 0:  \n",
    "            k = kz[0] \n",
    "        else:\n",
    "            k = 0\n",
    "            \n",
    "    dbzslice = dbz[k]\n",
    "\n",
    "    lons, lats = N.meshgrid(lon, lat[::-1])\n",
    "    \n",
    "    fig = P.figure(figsize=(12,12))\n",
    "    ax = fig.add_subplot(111)\n",
    "\n",
    "    map = Basemap(projection='lcc', llcrnrlon=-99.75,llcrnrlat=33.75,urcrnrlon=-96.,urcrnrlat=36.75, lat_0=34.,lon_0=-98., area_thresh=1,suppress_ticks=True)\n",
    "    x, y = map(lons,lats)\n",
    "    clevels = N.arange(0,75,5)\n",
    "    plot = map.contourf(x, y, dbzslice, clevels, cmap=ctables.NWSRef)\n",
    "    cbar = map.colorbar(plot, location='bottom', pad=\"5%\")\n",
    "    cbar.set_label('dBZ')\n",
    "\n",
    "    ax.set_title(\"Time:  %s       dBZ at %4.2f km MSL\" % (sec_utime.num2date(timestamp), 0.001*hgt[k]), size='xx-large')\n",
    "    ax.set_aspect('equal')\n",
    "    ax.set_xlabel('Lon (km)')\n",
    "    ax.set_ylabel('Lat (km)')\n",
    "    \n",
    "    try:\n",
    "        if shapefiles:\n",
    "            shapelist = shapefiles\n",
    "        else:\n",
    "            shapelist = os.getenv(\"PYESVIEWER_SHAPEFILES\").split(\":\")\n",
    "\n",
    "        if len(shapelist) > 0:\n",
    "\n",
    "            for item in shapelist:\n",
    "                items = item.split(\",\")\n",
    "                shapefile  = items[0]\n",
    "                color      = items[1]\n",
    "                line_width = items[2]\n",
    "                print shapefile, color, line_width\n",
    "\n",
    "                map.readshapefile(shapefile,'GIS_INFO',drawbounds=True,linewidth=line_width,color=color)\n",
    "\n",
    "    except OSError:\n",
    "        print \"GIS_PLOT:  NO SHAPEFILE ENV VARIABLE FOUND \"\n",
    "        pass\n",
    "\n",
    "    output_filename = \"%s_%4.2f.png\" % (os.path.join(directory,\"MRMS_\"+str.replace(sec_utime.num2date(timestamp).isoformat(),\"T\",\"_\")),hgt[k])\n",
    "    if output != None:\n",
    "        print \"\\n Saving file %s\" % (output_filename)\n",
    "        P.savefig(output_filename, format=\"png\", dpi=300)\n",
    "    if show == True:\n",
    "        P.show()\n",
    "        \n",
    "    P.close()\n",
    "\n",
    "        "
   ]
  },
  {
   "cell_type": "code",
   "execution_count": null,
   "metadata": {
    "collapsed": false
   },
   "outputs": [
    {
     "name": "stdout",
     "output_type": "stream",
     "text": [
      "/Volumes/Master/Users/wicker/Library/ShapeFiles/tornado_tracks/24May_2011/El_Reno_B1_B2 black 1.0\n",
      "/Volumes/Master/Users/wicker/Library/ShapeFiles/shapefiles/OKCNTYD/OKCNTYD gray 2.0\n",
      "\n",
      " Saving file /Volumes/Master/Users/wicker/test2/MRMS_2011-05-24_19:30:00_1750.00.png\n",
      "File /Volumes/Master/Users/wicker/ownCloud/RadarData/24May2011/MRMS_24May2011_1930_2130_cdf/20110524-193000.netcdf completed"
     ]
    }
   ],
   "source": [
    "import glob\n",
    "dir = \"/Volumes/Master/Users/wicker/ownCloud/RadarData/24May2011/MRMS_24May2011_1930_2130_cdf\"\n",
    "shapefiles = \"/Volumes/Master/Users/wicker/Library/ShapeFiles/tornado_tracks/24May_2011/El_Reno_B1_B2,black,1.0:/Volumes/Master/Users/wicker/Library/ShapeFiles/shapefiles/OKCNTYD/OKCNTYD,gray,2.0\"\n",
    "files = glob.glob(os.path.join(dir,\"*.netcdf\"))\n",
    "for file in files:\n",
    "    plotMRMS(filename=os.path.join(dir,file),z=-5, directory='/Volumes/Master/Users/wicker/test2',show=False,output=True)\n",
    "    print(\"File %s completed\" % file)\n"
   ]
  },
  {
   "cell_type": "code",
   "execution_count": 4,
   "metadata": {
    "collapsed": false
   },
   "outputs": [
    {
     "name": "stdout",
     "output_type": "stream",
     "text": [
      "/Volumes/Master/Users/wicker/Library/ShapeFiles/tornado_tracks/24May_2011/El_Reno_B1_B2 black 1.0\n",
      "/Volumes/Master/Users/wicker/Library/ShapeFiles/shapefiles/OKCNTYD/OKCNTYD gray 2.0\n",
      "\n",
      " Saving file /Volumes/Master/Users/wicker/test2/MRMS_2011-05-24_20:00:00_2000.00.png\n"
     ]
    }
   ],
   "source": [
    "import glob\n",
    "file = \"/Volumes/Master/Users/wicker/ownCloud/RadarData/24May2011/MRMS_24May2011_1930_2130_cdf/20110524-200000.netcdf\"\n",
    "shapefiles = \"/Volumes/Master/Users/wicker/Library/ShapeFiles/tornado_tracks/24May_2011/El_Reno_B1_B2,black,1.0:/Volumes/Master/Users/wicker/Library/ShapeFiles/shapefiles/OKCNTYD/OKCNTYD,gray,2.0\"\n",
    "plotMRMS(filename=file,z=-6, directory='/Volumes/Master/Users/wicker/test2',show=True,output=False)\n"
   ]
  },
  {
   "cell_type": "code",
   "execution_count": 9,
   "metadata": {
    "collapsed": false
   },
   "outputs": [],
   "source": [
    "import glob\n",
    "dir = \"/Volumes/Master/Users/wicker/ownCloud/RadarData/24May2011/MRMS_24May2011_1930_2130_cdf\"\n",
    "files = glob.glob(os.path.join(dir,\"*.netcdf\"))\n",
    "for file in files:\n",
    "    cmd = \"ncpdq -a time %s %s/tmp/%s\" % (file, dir, os.path.split(file)[-1])\n",
    "    os.system(cmd)\n",
    "    \n"
   ]
  },
  {
   "cell_type": "code",
   "execution_count": null,
   "metadata": {
    "collapsed": false
   },
   "outputs": [],
   "source": []
  }
 ],
 "metadata": {
  "kernelspec": {
   "display_name": "Python 2",
   "language": "python",
   "name": "python2"
  },
  "language_info": {
   "codemirror_mode": {
    "name": "ipython",
    "version": 2
   },
   "file_extension": ".py",
   "mimetype": "text/x-python",
   "name": "python",
   "nbconvert_exporter": "python",
   "pygments_lexer": "ipython2",
   "version": "2.7.14"
  }
 },
 "nbformat": 4,
 "nbformat_minor": 0
}
