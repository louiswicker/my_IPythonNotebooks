{
 "cells": [
  {
   "cell_type": "code",
   "execution_count": 28,
   "metadata": {},
   "outputs": [],
   "source": [
    "import numpy as np\n",
    "\n",
    "zs = 5000.\n",
    "Us = 30.0\n",
    "Uc = Us/2.0\n",
    "\n",
    "\n",
    "def KlempGlobalShear(z):\n",
    "    \n",
    "    if z < (zs - 1000.):\n",
    "        return Us*(z/zs) - Uc\n",
    "    if np.abs(z-zs) <= 1000.:\n",
    "        return ((-0.8 + 3.0*(z/zs) - 1.25* (z/zs)**2)*Us - Uc)\n",
    "    if z > (zs + 1000.):\n",
    "        return Us - Uc\n",
    "\n",
    "z = []\n",
    "t = []\n",
    "qv = []\n",
    "u  = []\n",
    "v  = []\n",
    "vv = []\n",
    "uu = []\n",
    "columns = [[]] * 5\n",
    "with open('../input_sounding','r') as token:\n",
    "    for line in token:\n",
    "        for field, val in enumerate(line.split()):\n",
    "            value = float(val)\n",
    "            if field == 0:  \n",
    "                z.append(value)\n",
    "                uu.append(KlempGlobalShear(value))\n",
    "                vv.append(0.0)\n",
    "            if field == 1:  t.append(value)\n",
    "            if field == 2:  qv.append(value)\n",
    "            if field == 3:  u.append(value)\n",
    "            if field == 4:  v.append(value)\n",
    "\n",
    "with open('output_sounding','w') as token:\n",
    "    token.write(\"  %10.4f %10.4f %10.4f\\n\" % (1000.,300., 14.))\n",
    "    for n in np.arange(len(z)):\n",
    "        token.write(\"  %10.4f %10.4f %10.4f %10.4f %10.4f\\n\" % (z[n], t[n], qv[n], uu[n], vv[n]))\n",
    "        "
   ]
  },
  {
   "cell_type": "code",
   "execution_count": null,
   "metadata": {},
   "outputs": [],
   "source": []
  }
 ],
 "metadata": {
  "kernelspec": {
   "display_name": "Python 3",
   "language": "python",
   "name": "python3"
  },
  "language_info": {
   "codemirror_mode": {
    "name": "ipython",
    "version": 3
   },
   "file_extension": ".py",
   "mimetype": "text/x-python",
   "name": "python",
   "nbconvert_exporter": "python",
   "pygments_lexer": "ipython3",
   "version": "3.7.3"
  }
 },
 "nbformat": 4,
 "nbformat_minor": 2
}
