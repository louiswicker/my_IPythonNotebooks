{
 "cells": [
  {
   "cell_type": "code",
   "execution_count": 2,
   "metadata": {},
   "outputs": [
    {
     "name": "stdout",
     "output_type": "stream",
     "text": [
      "/Volumes/Fastscr/24May/vort_prob.py -d /Volumes/Fastscr/24May/ZVD_2KM_6KMOBS/M2_1min -t 2011-05-24_20:10:00 --noshow -s 1680 -e 1920 -r 1 60\n",
      "/Volumes/Fastscr/24May/vort_prob.py -d /Volumes/Fastscr/24May/ZVD_2KM_6KMOBS/M2_1min -t 2011-05-24_20:11:00 --noshow -s 1740 -e 1980 -r 1 60\n",
      "/Volumes/Fastscr/24May/vort_prob.py -d /Volumes/Fastscr/24May/ZVD_2KM_6KMOBS/M2_1min -t 2011-05-24_20:12:00 --noshow -s 1800 -e 2040 -r 1 60\n",
      "/Volumes/Fastscr/24May/vort_prob.py -d /Volumes/Fastscr/24May/ZVD_2KM_6KMOBS/M2_1min -t 2011-05-24_20:13:00 --noshow -s 1860 -e 2100 -r 1 60\n",
      "/Volumes/Fastscr/24May/vort_prob.py -d /Volumes/Fastscr/24May/ZVD_2KM_6KMOBS/M2_1min -t 2011-05-24_20:14:00 --noshow -s 1920 -e 2160 -r 1 60\n",
      "/Volumes/Fastscr/24May/vort_prob.py -d /Volumes/Fastscr/24May/ZVD_2KM_6KMOBS/M2_1min -t 2011-05-24_20:15:00 --noshow -s 1980 -e 2220 -r 1 60\n",
      "/Volumes/Fastscr/24May/vort_prob.py -d /Volumes/Fastscr/24May/ZVD_2KM_6KMOBS/M2_1min -t 2011-05-24_20:16:00 --noshow -s 2040 -e 2280 -r 1 60\n",
      "/Volumes/Fastscr/24May/vort_prob.py -d /Volumes/Fastscr/24May/ZVD_2KM_6KMOBS/M2_1min -t 2011-05-24_20:17:00 --noshow -s 2100 -e 2340 -r 1 60\n",
      "/Volumes/Fastscr/24May/vort_prob.py -d /Volumes/Fastscr/24May/ZVD_2KM_6KMOBS/M2_1min -t 2011-05-24_20:18:00 --noshow -s 2160 -e 2400 -r 1 60\n",
      "/Volumes/Fastscr/24May/vort_prob.py -d /Volumes/Fastscr/24May/ZVD_2KM_6KMOBS/M2_1min -t 2011-05-24_20:19:00 --noshow -s 2220 -e 2460 -r 1 60\n",
      "/Volumes/Fastscr/24May/vort_prob.py -d /Volumes/Fastscr/24May/ZVD_2KM_6KMOBS/M2_1min -t 2011-05-24_20:20:00 --noshow -s 2280 -e 2520 -r 1 60\n",
      "/Volumes/Fastscr/24May/vort_prob.py -d /Volumes/Fastscr/24May/ZVD_2KM_6KMOBS/M2_1min -t 2011-05-24_20:21:00 --noshow -s 2340 -e 2580 -r 1 60\n",
      "/Volumes/Fastscr/24May/vort_prob.py -d /Volumes/Fastscr/24May/ZVD_2KM_6KMOBS/M2_1min -t 2011-05-24_20:22:00 --noshow -s 2400 -e 2640 -r 1 60\n",
      "/Volumes/Fastscr/24May/vort_prob.py -d /Volumes/Fastscr/24May/ZVD_2KM_6KMOBS/M2_1min -t 2011-05-24_20:23:00 --noshow -s 2460 -e 2700 -r 1 60\n",
      "/Volumes/Fastscr/24May/vort_prob.py -d /Volumes/Fastscr/24May/ZVD_2KM_6KMOBS/M2_1min -t 2011-05-24_20:24:00 --noshow -s 2520 -e 2760 -r 1 60\n",
      "/Volumes/Fastscr/24May/vort_prob.py -d /Volumes/Fastscr/24May/ZVD_2KM_6KMOBS/M2_1min -t 2011-05-24_20:25:00 --noshow -s 2580 -e 2820 -r 1 60\n",
      "/Volumes/Fastscr/24May/vort_prob.py -d /Volumes/Fastscr/24May/ZVD_2KM_6KMOBS/M2_1min -t 2011-05-24_20:26:00 --noshow -s 2640 -e 2880 -r 1 60\n",
      "/Volumes/Fastscr/24May/vort_prob.py -d /Volumes/Fastscr/24May/ZVD_2KM_6KMOBS/M2_1min -t 2011-05-24_20:27:00 --noshow -s 2700 -e 2940 -r 1 60\n",
      "/Volumes/Fastscr/24May/vort_prob.py -d /Volumes/Fastscr/24May/ZVD_2KM_6KMOBS/M2_1min -t 2011-05-24_20:28:00 --noshow -s 2760 -e 3000 -r 1 60\n",
      "/Volumes/Fastscr/24May/vort_prob.py -d /Volumes/Fastscr/24May/ZVD_2KM_6KMOBS/M2_1min -t 2011-05-24_20:29:00 --noshow -s 2820 -e 3060 -r 1 60\n",
      "/Volumes/Fastscr/24May/vort_prob.py -d /Volumes/Fastscr/24May/ZVD_2KM_6KMOBS/M2_1min -t 2011-05-24_20:30:00 --noshow -s 2880 -e 3120 -r 1 60\n",
      "/Volumes/Fastscr/24May/vort_prob.py -d /Volumes/Fastscr/24May/ZVD_2KM_6KMOBS/M2_1min -t 2011-05-24_20:31:00 --noshow -s 2940 -e 3180 -r 1 60\n",
      "/Volumes/Fastscr/24May/vort_prob.py -d /Volumes/Fastscr/24May/ZVD_2KM_6KMOBS/M2_1min -t 2011-05-24_20:32:00 --noshow -s 3000 -e 3240 -r 1 60\n",
      "/Volumes/Fastscr/24May/vort_prob.py -d /Volumes/Fastscr/24May/ZVD_2KM_6KMOBS/M2_1min -t 2011-05-24_20:33:00 --noshow -s 3060 -e 3300 -r 1 60\n",
      "/Volumes/Fastscr/24May/vort_prob.py -d /Volumes/Fastscr/24May/ZVD_2KM_6KMOBS/M2_1min -t 2011-05-24_20:34:00 --noshow -s 3120 -e 3360 -r 1 60\n",
      "/Volumes/Fastscr/24May/vort_prob.py -d /Volumes/Fastscr/24May/ZVD_2KM_6KMOBS/M2_1min -t 2011-05-24_20:35:00 --noshow -s 3180 -e 3420 -r 1 60\n",
      "/Volumes/Fastscr/24May/vort_prob.py -d /Volumes/Fastscr/24May/ZVD_2KM_6KMOBS/M2_1min -t 2011-05-24_20:36:00 --noshow -s 3240 -e 3480 -r 1 60\n",
      "/Volumes/Fastscr/24May/vort_prob.py -d /Volumes/Fastscr/24May/ZVD_2KM_6KMOBS/M2_1min -t 2011-05-24_20:37:00 --noshow -s 3300 -e 3540 -r 1 60\n",
      "/Volumes/Fastscr/24May/vort_prob.py -d /Volumes/Fastscr/24May/ZVD_2KM_6KMOBS/M2_1min -t 2011-05-24_20:38:00 --noshow -s 3360 -e 3600 -r 1 60\n",
      "/Volumes/Fastscr/24May/vort_prob.py -d /Volumes/Fastscr/24May/ZVD_2KM_6KMOBS/M2_1min -t 2011-05-24_20:39:00 --noshow -s 3420 -e 3660 -r 1 60\n",
      "/Volumes/Fastscr/24May/vort_prob.py -d /Volumes/Fastscr/24May/ZVD_2KM_6KMOBS/M2_1min -t 2011-05-24_20:40:00 --noshow -s 3480 -e 3720 -r 1 60\n",
      "/Volumes/Fastscr/24May/vort_prob.py -d /Volumes/Fastscr/24May/ZVD_2KM_6KMOBS/M2_1min -t 2011-05-24_20:41:00 --noshow -s 3540 -e 3780 -r 1 60\n",
      "/Volumes/Fastscr/24May/vort_prob.py -d /Volumes/Fastscr/24May/ZVD_2KM_6KMOBS/M2_1min -t 2011-05-24_20:42:00 --noshow -s 3600 -e 3840 -r 1 60\n",
      "/Volumes/Fastscr/24May/vort_prob.py -d /Volumes/Fastscr/24May/ZVD_2KM_6KMOBS/M2_1min -t 2011-05-24_20:43:00 --noshow -s 3660 -e 3900 -r 1 60\n",
      "/Volumes/Fastscr/24May/vort_prob.py -d /Volumes/Fastscr/24May/ZVD_2KM_6KMOBS/M2_1min -t 2011-05-24_20:44:00 --noshow -s 3720 -e 3960 -r 1 60\n",
      "/Volumes/Fastscr/24May/vort_prob.py -d /Volumes/Fastscr/24May/ZVD_2KM_6KMOBS/M2_1min -t 2011-05-24_20:45:00 --noshow -s 3780 -e 4020 -r 1 60\n",
      "/Volumes/Fastscr/24May/vort_prob.py -d /Volumes/Fastscr/24May/ZVD_2KM_6KMOBS/M2_1min -t 2011-05-24_20:46:00 --noshow -s 3840 -e 4080 -r 1 60\n",
      "/Volumes/Fastscr/24May/vort_prob.py -d /Volumes/Fastscr/24May/ZVD_2KM_6KMOBS/M2_1min -t 2011-05-24_20:47:00 --noshow -s 3900 -e 4140 -r 1 60\n",
      "/Volumes/Fastscr/24May/vort_prob.py -d /Volumes/Fastscr/24May/ZVD_2KM_6KMOBS/M2_1min -t 2011-05-24_20:48:00 --noshow -s 3960 -e 4200 -r 1 60\n",
      "/Volumes/Fastscr/24May/vort_prob.py -d /Volumes/Fastscr/24May/ZVD_2KM_6KMOBS/M2_1min -t 2011-05-24_20:49:00 --noshow -s 4020 -e 4260 -r 1 60\n",
      "/Volumes/Fastscr/24May/vort_prob.py -d /Volumes/Fastscr/24May/ZVD_2KM_6KMOBS/M2_1min -t 2011-05-24_20:50:00 --noshow -s 4080 -e 4320 -r 1 60\n",
      "/Volumes/Fastscr/24May/vort_prob.py -d /Volumes/Fastscr/24May/ZVD_2KM_6KMOBS/M2_1min -t 2011-05-24_20:51:00 --noshow -s 4140 -e 4380 -r 1 60\n",
      "/Volumes/Fastscr/24May/vort_prob.py -d /Volumes/Fastscr/24May/ZVD_2KM_6KMOBS/M2_1min -t 2011-05-24_20:52:00 --noshow -s 4200 -e 4440 -r 1 60\n",
      "/Volumes/Fastscr/24May/vort_prob.py -d /Volumes/Fastscr/24May/ZVD_2KM_6KMOBS/M2_1min -t 2011-05-24_20:53:00 --noshow -s 4260 -e 4500 -r 1 60\n",
      "/Volumes/Fastscr/24May/vort_prob.py -d /Volumes/Fastscr/24May/ZVD_2KM_6KMOBS/M2_1min -t 2011-05-24_20:54:00 --noshow -s 4320 -e 4560 -r 1 60\n",
      "/Volumes/Fastscr/24May/vort_prob.py -d /Volumes/Fastscr/24May/ZVD_2KM_6KMOBS/M2_1min -t 2011-05-24_20:55:00 --noshow -s 4380 -e 4620 -r 1 60\n",
      "/Volumes/Fastscr/24May/vort_prob.py -d /Volumes/Fastscr/24May/ZVD_2KM_6KMOBS/M2_1min -t 2011-05-24_20:56:00 --noshow -s 4440 -e 4680 -r 1 60\n",
      "/Volumes/Fastscr/24May/vort_prob.py -d /Volumes/Fastscr/24May/ZVD_2KM_6KMOBS/M2_1min -t 2011-05-24_20:57:00 --noshow -s 4500 -e 4740 -r 1 60\n",
      "/Volumes/Fastscr/24May/vort_prob.py -d /Volumes/Fastscr/24May/ZVD_2KM_6KMOBS/M2_1min -t 2011-05-24_20:58:00 --noshow -s 4560 -e 4800 -r 1 60\n",
      "/Volumes/Fastscr/24May/vort_prob.py -d /Volumes/Fastscr/24May/ZVD_2KM_6KMOBS/M2_1min -t 2011-05-24_20:59:00 --noshow -s 4620 -e 4860 -r 1 60\n",
      "/Volumes/Fastscr/24May/vort_prob.py -d /Volumes/Fastscr/24May/ZVD_2KM_6KMOBS/M2_1min -t 2011-05-24_21:00:00 --noshow -s 4680 -e 4920 -r 1 60\n",
      "/Volumes/Fastscr/24May/vort_prob.py -d /Volumes/Fastscr/24May/ZVD_2KM_6KMOBS/M2_1min -t 2011-05-24_21:01:00 --noshow -s 4740 -e 4980 -r 1 60\n",
      "/Volumes/Fastscr/24May/vort_prob.py -d /Volumes/Fastscr/24May/ZVD_2KM_6KMOBS/M2_1min -t 2011-05-24_21:02:00 --noshow -s 4800 -e 5040 -r 1 60\n",
      "/Volumes/Fastscr/24May/vort_prob.py -d /Volumes/Fastscr/24May/ZVD_2KM_6KMOBS/M2_1min -t 2011-05-24_21:03:00 --noshow -s 4860 -e 5100 -r 1 60\n",
      "/Volumes/Fastscr/24May/vort_prob.py -d /Volumes/Fastscr/24May/ZVD_2KM_6KMOBS/M2_1min -t 2011-05-24_21:04:00 --noshow -s 4920 -e 5160 -r 1 60\n",
      "/Volumes/Fastscr/24May/vort_prob.py -d /Volumes/Fastscr/24May/ZVD_2KM_6KMOBS/M2_1min -t 2011-05-24_21:05:00 --noshow -s 4980 -e 5220 -r 1 60\n",
      "/Volumes/Fastscr/24May/vort_prob.py -d /Volumes/Fastscr/24May/ZVD_2KM_6KMOBS/M2_1min -t 2011-05-24_21:06:00 --noshow -s 5040 -e 5280 -r 1 60\n",
      "/Volumes/Fastscr/24May/vort_prob.py -d /Volumes/Fastscr/24May/ZVD_2KM_6KMOBS/M2_1min -t 2011-05-24_21:07:00 --noshow -s 5100 -e 5340 -r 1 60\n",
      "/Volumes/Fastscr/24May/vort_prob.py -d /Volumes/Fastscr/24May/ZVD_2KM_6KMOBS/M2_1min -t 2011-05-24_21:08:00 --noshow -s 5160 -e 5400 -r 1 60\n",
      "/Volumes/Fastscr/24May/vort_prob.py -d /Volumes/Fastscr/24May/ZVD_2KM_6KMOBS/M2_1min -t 2011-05-24_21:09:00 --noshow -s 5220 -e 5460 -r 1 60\n",
      "/Volumes/Fastscr/24May/vort_prob.py -d /Volumes/Fastscr/24May/ZVD_2KM_6KMOBS/M2_1min -t 2011-05-24_21:10:00 --noshow -s 5280 -e 5520 -r 1 60\n"
     ]
    }
   ],
   "source": [
    "import glob\n",
    "import numpy as N\n",
    "from netCDF4 import *\n",
    "import os\n",
    "_time_units    = \"seconds since 2011-05-24 19:40:00\"\n",
    "_calendar      = 'standard'\n",
    "\n",
    "dir = \"/Volumes/Fastscr/24May/ZVD_2KM_6KMOBS/M2_1min_T30\"\n",
    "\n",
    "start = 1800\n",
    "end   = 1800\n",
    "prefix = \"M2_2km\"\n",
    "range  = \"-r 1 60\"\n",
    "dt     = 60\n",
    "\n",
    "for time in N.arange(start, end+dt, dt):\n",
    "#label = DT.datetime(int(time[0]),int(time[1]),int(time[2]),int(time[3]),int(time[4]),int(time[5]))\n",
    "    label = num2date(time,units=_time_units,calendar=_calendar)\n",
    "    label2 = label.strftime(\"%Y-%m-%d_%H:%M:%S\")\n",
    "    cmd = \"/Volumes/Fastscr/24May/vort_prob.py -d %s -t %s --noshow -s %d -e %d %s\" % (dir, label2, time-120, time+120, range)\n",
    "    ret = os.system(cmd)\n",
    "    \n",
    "\n"
   ]
  },
  {
   "cell_type": "code",
   "execution_count": 10,
   "metadata": {},
   "outputs": [],
   "source": []
  },
  {
   "cell_type": "code",
   "execution_count": null,
   "metadata": {},
   "outputs": [],
   "source": []
  }
 ],
 "metadata": {
  "kernelspec": {
   "display_name": "Python 3",
   "language": "python",
   "name": "python3"
  },
  "language_info": {
   "codemirror_mode": {
    "name": "ipython",
    "version": 3
   },
   "file_extension": ".py",
   "mimetype": "text/x-python",
   "name": "python",
   "nbconvert_exporter": "python",
   "pygments_lexer": "ipython3",
   "version": "3.7.3"
  }
 },
 "nbformat": 4,
 "nbformat_minor": 1
}
