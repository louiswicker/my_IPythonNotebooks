{
 "cells": [
  {
   "cell_type": "code",
   "execution_count": 70,
   "metadata": {},
   "outputs": [],
   "source": [
    "def plotW2vr(filename = None, elevation = None, output = None, directory = \"./\", show = True):\n",
    "    from netcdftime import utime\n",
    "#   from pyesviewer import ctables\n",
    "    \n",
    "    sec_utime = utime(\"seconds since 1970-01-01 00:00:00\")\n",
    "    \n",
    "    f = ncdf.Dataset(filename, \"r\")\n",
    "    vr = f.variables['data'][:]\n",
    "    vr = N.ma.masked_array(vr, mask=(vr == f.data_below_snr))\n",
    "    \n",
    "    el = f.variables['elevation_angle'][:]\n",
    "    lat = f.variables['latitude'][:]   \n",
    "    lon = f.variables['longitude'][:]\n",
    "    timestamp = f.variables['time_since_1970'][:]    \n",
    "\n",
    "    if elevation <= 0:\n",
    "        k = -elevation\n",
    "    else:\n",
    "        kel = el[el > elevation]\n",
    "        if kel.size > 0:  \n",
    "            k = kel[0] \n",
    "        else:\n",
    "            k = 0\n",
    "            \n",
    "    vrslice = vr[k]\n",
    "\n",
    "    fig_y_size = 8.0 * (lat.max() - lat.min()) / (lon.max()-lon.min())\n",
    "\n",
    "    P.figure(figsize=(12,12))\n",
    "    P.clf()\n",
    "    P.axes().set_aspect('equal')\n",
    "\n",
    "    plt = P.subplot(111)\n",
    "    clevels = N.arange(-30,35,5)\n",
    "    plt = P.contourf(lon, lat, vrslice, clevels)\n",
    "    cbar = P.colorbar(plt)\n",
    "    cbar.ax.set_ylabel('Vr m/s')\n",
    "    P.title(\"Time:  %s   Vr Analysis %4.2f deg\" % (sec_utime.num2date(timestamp[k]), el[k]))\n",
    "    P.xlabel('Lon (km)')\n",
    "    P.ylabel('Lat (km)')\n",
    "    \n",
    "    output_filename = \"%s_%4.2f.png\" % (os.path.join(directory,str.replace(sec_utime.num2date(timestamp[k]).isoformat(),\"T\",\"_\")), elevation)\n",
    "    if output != None:\n",
    "        print \"\\n Saving file %s\" % (filename)\n",
    "        P.savefig(filename, format=\"png\")\n",
    "        P.close()\n",
    "    if show == True:\n",
    "        P.show()\n",
    "        P.close()"
   ]
  },
  {
   "cell_type": "code",
   "execution_count": null,
   "metadata": {},
   "outputs": [],
   "source": [
    "import glob\n",
    "dir = \"/Volumes/Master/Users/wicker/Dropbox/RadarData/24May2011/MPAR_W2_3KM\"\n",
    "files = glob.glob(os.path.join(dir,\"Velocity_Threshold_20110524*.nc\"))\n",
    "for file in files:\n",
    "    plotW2vr(filename=os.path.join(dir,file),elevation=4)\n",
    "\n",
    "\n"
   ]
  },
  {
   "cell_type": "code",
   "execution_count": null,
   "metadata": {},
   "outputs": [],
   "source": []
  }
 ],
 "metadata": {
  "kernelspec": {
   "display_name": "Python 3",
   "language": "python",
   "name": "python3"
  },
  "language_info": {
   "codemirror_mode": {
    "name": "ipython",
    "version": 3
   },
   "file_extension": ".py",
   "mimetype": "text/x-python",
   "name": "python",
   "nbconvert_exporter": "python",
   "pygments_lexer": "ipython3",
   "version": "3.7.3"
  }
 },
 "nbformat": 4,
 "nbformat_minor": 1
}
