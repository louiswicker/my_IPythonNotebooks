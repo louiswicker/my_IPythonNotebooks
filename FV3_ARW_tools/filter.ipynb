{
 "cells": [
  {
   "cell_type": "code",
   "execution_count": 1,
   "id": "763dfd80-b4b3-4cc2-a620-bc2487766deb",
   "metadata": {},
   "outputs": [
    {
     "name": "stdout",
     "output_type": "stream",
     "text": [
      "[-5.  -4.5 -4.  -3.5 -3.  -2.5 -2.  -1.5 -1.  -0.5  0.   0.5  1.   1.5\n",
      "  2.   2.5  3.   3.5  4.   4.5  5.   5.5  6.   6.5  7.   7.5  8.   8.5\n",
      "  9.   9.5 10. ]\n"
     ]
    }
   ],
   "source": [
    "import numpy as np\n",
    "import netCDF4 as ncdf\n",
    "import matplotlib as mlab\n",
    "import matplotlib.pyplot as plt\n",
    "import xarray as xr\n",
    "import glob as glob\n",
    "import os as os\n",
    "import sys as sys\n",
    "from filter import raymond_lowpass \n",
    "\n",
    "\n",
    "# These are 45 vertical levels that the FV3 puts out - use them here to map ARW to that grid for comparison\n",
    "\n",
    "plevels = np.asarray([100000.,  97500.,  95000.,  92500.,  90000.,  87500.,  85000.,  82500.,\n",
    "                       80000.,  77500.,  75000.,  72500.,  70000.,  67500.,  65000.,  62500.,\n",
    "                       60000.,  57500.,  55000.,  52500.,  50000.,  47500.,  45000.,  42500.,\n",
    "                       40000.,  37500.,  35000.,  32500.,  30000.,  27500.,  25000.,  22500.,\n",
    "                       20000.,  17500.,  15000.,  12500.,  10000.,   7000.,   5000.,   3000.,\n",
    "                        2000.,   1000.,    700.,    500.,    200.])\n",
    "nz_new = plevels.shape[0]\n",
    "\n",
    "vmin = -5.\n",
    "vmax = 10.\n",
    "\n",
    "clevels = np.linspace(vmin, vmax, 31)\n",
    "print(clevels)\n",
    "\n",
    "klevel = 30\n",
    "plevel = plevels[klevel]\n",
    "\n",
    "utc = 21\n",
    "\n",
    "def title_string(time, pres, label, wmax, wmin, eps=None):\n",
    "    if eps:\n",
    "        return (\"%2.2i UTC %s at Pres=%3.0f mb with EPS=%5.1f \\n Wmax: %3.1f        Wmin: %4.2f\" % (time, label, pres/100., eps, wmax, wmin))\n",
    "    else:\n",
    "        return (\"%2.2i UTC %s at Pres=%3.0f mb \\n Wmax: %3.1f        Wmin: %4.2f\" % (time, label, pres/100., wmax, wmin))"
   ]
  },
  {
   "cell_type": "code",
   "execution_count": 2,
   "id": "1b824a6f-e6ae-47ec-b4cb-f9c5598d5c63",
   "metadata": {},
   "outputs": [
    {
     "name": "stdout",
     "output_type": "stream",
     "text": [
      "<xarray.Dataset>\n",
      "Dimensions:  (ny: 434, nx: 523, nz: 45)\n",
      "Coordinates:\n",
      "    lats     (ny, nx) float32 ...\n",
      "    lons     (ny, nx) float32 ...\n",
      "    pres     (nz) float64 ...\n",
      "Dimensions without coordinates: ny, nx, nz\n",
      "Data variables:\n",
      "    W        (nz, ny, nx) float32 ...\n",
      "    HGT      (nz, ny, nx) float32 ...\n",
      "    TEMP     (nz, ny, nx) float32 ...\n",
      "    U        (nz, ny, nx) float32 ...\n",
      "    V        (nz, ny, nx) float32 ...\n",
      "    CREF     (ny, nx) float32 ...\n",
      "    UH       (ny, nx) float32 ...\n",
      "    plevels  (nz) float64 ...\n",
      "    SFC_HGT  (ny, nx) float32 ...\n",
      "<xarray.Dataset>\n",
      "Dimensions:  (nz: 45, ny: 556, nx: 641)\n",
      "Coordinates:\n",
      "    lats     (ny, nx) float32 ...\n",
      "    lons     (ny, nx) float32 ...\n",
      "    pres     (nz) float64 ...\n",
      "Dimensions without coordinates: nz, ny, nx\n",
      "Data variables:\n",
      "    HGT      (nz, ny, nx) float32 ...\n",
      "    W        (nz, ny, nx) float32 ...\n",
      "    TEMP     (nz, ny, nx) float32 ...\n",
      "    U        (nz, ny, nx) float32 ...\n",
      "    V        (nz, ny, nx) float32 ...\n",
      "    CREF     (ny, nx) float32 ...\n",
      "    UH       (ny, nx) float32 ...\n",
      "    plevels  (nz, ny, nx) float64 ...\n",
      "    SFC_HGT  (ny, nx) float32 ...\n"
     ]
    }
   ],
   "source": [
    "f = xr.open_dataset((\"/Users/Louis.Wicker/04May2021_HRRR/region.20210504_conus_hrrr.t00z.wrfnatf%2.2i.nc4\" % utc))\n",
    "print(f)\n",
    "\n",
    "g = xr.open_dataset(\"/Users/Louis.Wicker/04May2021_RRFS/mem1/region.t00z.mem01.naf%3.3i.nc4\" % utc)\n",
    "print(g)\n",
    "\n"
   ]
  },
  {
   "cell_type": "code",
   "execution_count": 3,
   "id": "2ed845b3-1029-41fc-9f15-aaea1fb55b1a",
   "metadata": {},
   "outputs": [],
   "source": [
    "fw_tmp = np.nan_to_num((f.W.values).astype('float64'))\n",
    "fw_tmp2 = np.nan_to_num((f.W.values).astype('float64'))\n",
    "f.variables['W'][...] = np.nan_to_num(f.W)\n",
    "\n",
    "gw_tmp = np.nan_to_num((g.W.values).astype('float64'))\n",
    "gw_tmp2 = np.nan_to_num((g.W.values).astype('float64'))\n",
    "\n",
    "g.variables['W'][...] = np.nan_to_num(g.W)\n"
   ]
  },
  {
   "cell_type": "code",
   "execution_count": null,
   "id": "e7025313-4ec7-45c2-b828-b925a9126153",
   "metadata": {},
   "outputs": [],
   "source": [
    "eps = 100.\n",
    "\n",
    "for k in np.arange(fw_tmp.shape[0]):\n",
    "    fw_tmp2[k] = fw_tmp[k] - xr.DataArray(raymond_lowpass.raymond2d_lowpass(fw_tmp[k].transpose(),eps).transpose())\n",
    "\n",
    "fw_tmp2 = f.W.copy(data=fw_tmp2)\n",
    "\n",
    "#\n",
    "\n",
    "for k in np.arange(gw_tmp.shape[0]):\n",
    "    gw_tmp2[k] = gw_tmp[k] - xr.DataArray(raymond_lowpass.raymond2d_lowpass(gw_tmp[k].transpose(),eps).transpose())\n",
    "\n",
    "gw_tmp2 = g.W.copy(data=gw_tmp2)\n"
   ]
  },
  {
   "cell_type": "code",
   "execution_count": null,
   "id": "a031808c-5bf2-4899-9fe7-2b7d71b820e2",
   "metadata": {},
   "outputs": [],
   "source": [
    "fig, axes = plt.subplots(nrows=2, ncols=2, figsize=(24,20), sharex=True)\n",
    "\n",
    "# Plot the HRRR data\n",
    "\n",
    "f.W.isel(nz=klevel).plot.contourf(ax=axes[0,0], levels=clevels, xlim=[100,350], ylim=[50,250], center=0.0, cmap='seismic', cbar_kwargs={'label': 'W (m/s)'})\n",
    "axes[0,0].set_title(title_string(utc, plevel, 'HRRR Unfiltered W', f.W.isel(nz=klevel).max(), f.W.isel(nz=klevel).min()), fontsize=12)\n",
    "\n",
    "fw_tmp2.isel(nz=klevel).plot.contourf(ax=axes[1,0], levels=clevels, xlim=[100,350], ylim=[50,250], center=0.0, cmap='seismic', cbar_kwargs={'label': 'W (m/s)'})\n",
    "axes[1,0].set_title(title_string(utc, plevel, 'HRRR High Pass Filter W', fw_tmp2.isel(nz=klevel).max(),fw_tmp2.isel(nz=klevel).min(), eps=eps), fontsize=12)\n",
    "\n",
    "g.W.isel(nz=klevel).plot.contourf(ax=axes[0,1], levels=clevels, xlim=[100,350], ylim=[50,250], center=0.0, cmap='seismic', cbar_kwargs={'label': 'W (m/s)'})\n",
    "axes[0,1].set_title(title_string(utc, plevel, 'RRFS-mem1 Unfiltered W', g.W.isel(nz=klevel).max(), g.W.isel(nz=klevel).min()), fontsize=12)\n",
    "\n",
    "gw_tmp2.isel(nz=klevel).plot.contourf(ax=axes[1,1], levels=clevels, xlim=[100,350], ylim=[50,250], center=0.0, cmap='seismic', cbar_kwargs={'label': 'W (m/s)'})\n",
    "axes[1,1].set_title(title_string(utc, plevel, 'RRFS-mem1 High Pass Filter W', gw_tmp2.isel(nz=klevel).max(), gw_tmp2.isel(nz=klevel).min(), eps=eps),fontsize=12)\n"
   ]
  }
 ],
 "metadata": {
  "kernelspec": {
   "display_name": "Python 3 (ipykernel)",
   "language": "python",
   "name": "python3"
  },
  "language_info": {
   "codemirror_mode": {
    "name": "ipython",
    "version": 3
   },
   "file_extension": ".py",
   "mimetype": "text/x-python",
   "name": "python",
   "nbconvert_exporter": "python",
   "pygments_lexer": "ipython3",
   "version": "3.9.7"
  }
 },
 "nbformat": 4,
 "nbformat_minor": 5
}
