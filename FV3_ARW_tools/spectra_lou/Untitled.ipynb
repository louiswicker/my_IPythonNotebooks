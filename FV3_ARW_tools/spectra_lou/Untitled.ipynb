{
 "cells": [
  {
   "cell_type": "code",
   "execution_count": 1,
   "id": "e924ba01-a9f0-44ce-86b6-2c3d0f048523",
   "metadata": {},
   "outputs": [],
   "source": [
    "import xarray as xr\n",
    "import Nio_numpy\n",
    "import pygrib"
   ]
  },
  {
   "cell_type": "code",
   "execution_count": 3,
   "id": "501c8a95-9ff9-4b85-b04d-4f437aecf2ec",
   "metadata": {},
   "outputs": [],
   "source": [
    "f0 = Nio.open_file(\"/Users/Louis.Wicker/04May2021_RRFS/mem1/grib2/rrfs.t00z.mem01.naf018.grib2\")"
   ]
  },
  {
   "cell_type": "code",
   "execution_count": 16,
   "id": "5e29481a-4c08-4784-a3e7-56e09775e239",
   "metadata": {},
   "outputs": [],
   "source": [
    "ds = f0.variables['REFC_P0_L200_GRLL0']"
   ]
  },
  {
   "cell_type": "code",
   "execution_count": 18,
   "id": "b7e171eb-0ac4-4949-9da9-ae377e009871",
   "metadata": {},
   "outputs": [
    {
     "data": {
      "text/plain": [
       "('ygrid_0', 'xgrid_0')"
      ]
     },
     "execution_count": 18,
     "metadata": {},
     "output_type": "execute_result"
    }
   ],
   "source": [
    "ds.dimensions"
   ]
  },
  {
   "cell_type": "code",
   "execution_count": 25,
   "id": "c07c6a81-54dd-42bd-8bc0-bce813ac69ea",
   "metadata": {},
   "outputs": [
    {
     "name": "stdout",
     "output_type": "stream",
     "text": [
      "<class 'float'>\n"
     ]
    }
   ],
   "source": [
    "sw_corner = (27.776199263795622, -97.43436259615146)\n",
    "ne_corner = (38.36255932569569, -81.65435850459758)\n",
    "print(type(sw_corner[1]))"
   ]
  },
  {
   "cell_type": "code",
   "execution_count": 38,
   "id": "5d52aee1-9e1c-4759-9172-e117ba75e8f9",
   "metadata": {},
   "outputs": [],
   "source": [
    "sub_ds = ds['%f:%f %f:%f' % (sw_corner[1]+360.,ne_corner[1]+360.,sw_corner[0],ne_corner[0])]"
   ]
  },
  {
   "cell_type": "code",
   "execution_count": 41,
   "id": "4bc52c5e-588e-475b-b635-f569a78bc5ac",
   "metadata": {},
   "outputs": [
    {
     "data": {
      "text/plain": [
       "masked"
      ]
     },
     "execution_count": 41,
     "metadata": {},
     "output_type": "execute_result"
    }
   ],
   "source": [
    "sub_ds.min()"
   ]
  },
  {
   "cell_type": "code",
   "execution_count": 10,
   "id": "785fd3d5-fb44-43b2-b799-39b235f54849",
   "metadata": {},
   "outputs": [],
   "source": [
    "dbz = f.select(shortName='refc')[0]"
   ]
  },
  {
   "cell_type": "code",
   "execution_count": 14,
   "id": "b71e14d8-15cd-4b57-9bc3-eb20825f6e3b",
   "metadata": {},
   "outputs": [
    {
     "name": "stdout",
     "output_type": "stream",
     "text": [
      "79.86 -20.0\n"
     ]
    }
   ],
   "source": [
    "print(dbz.max, dbz.min)\n"
   ]
  },
  {
   "cell_type": "code",
   "execution_count": null,
   "id": "842cd365-169b-4195-ac53-007979a45999",
   "metadata": {},
   "outputs": [],
   "source": [
    "print(dbz)"
   ]
  },
  {
   "cell_type": "code",
   "execution_count": null,
   "id": "3ea5f4ed-ea7b-42c3-82ec-e03db57f05a8",
   "metadata": {},
   "outputs": [],
   "source": [
    "fdbz = dbz.values\n"
   ]
  },
  {
   "cell_type": "code",
   "execution_count": null,
   "id": "a1f5818d-83b0-4fe1-8112-c98bea900819",
   "metadata": {},
   "outputs": [],
   "source": []
  },
  {
   "cell_type": "code",
   "execution_count": null,
   "id": "fc7920bf-afa8-4339-aa80-855f4a0c2fa1",
   "metadata": {},
   "outputs": [],
   "source": []
  }
 ],
 "metadata": {
  "kernelspec": {
   "display_name": "Python 3",
   "language": "python",
   "name": "python3"
  },
  "language_info": {
   "codemirror_mode": {
    "name": "ipython",
    "version": 3
   },
   "file_extension": ".py",
   "mimetype": "text/x-python",
   "name": "python",
   "nbconvert_exporter": "python",
   "pygments_lexer": "ipython3",
   "version": "3.7.3"
  }
 },
 "nbformat": 4,
 "nbformat_minor": 5
}
