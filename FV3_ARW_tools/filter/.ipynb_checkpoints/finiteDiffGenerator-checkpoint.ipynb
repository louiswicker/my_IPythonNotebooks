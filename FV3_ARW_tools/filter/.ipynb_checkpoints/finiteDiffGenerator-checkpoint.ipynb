{
 "cells": [
  {
   "cell_type": "code",
   "execution_count": 4,
   "id": "8be051de-193d-4aa5-9205-e39b5c67ec1a",
   "metadata": {},
   "outputs": [
    {
     "data": {
      "text/plain": [
       "'get_weights(grid, double xtgt, int n=-1, int maxorder=0)\\n\\n    Generates finite differnece weights.\\n\\n    Parameters\\n    ----------\\n    grid: array_like\\n        Grid points.\\n    xtgt: float\\n        Point at which estimates should be accurate.\\n    n: int, optional\\n        Number of points used in ``xarr``. default: -1 (means use length of xarr).\\n    maxorder: int, optional\\n        default: 0 (means interpolation)\\n\\n    Returns\\n    -------\\n    array_like\\n         2 dimensional array with shape==(n, maxorder+1) with\\n         Fortran order (contiguous along columns)\\n         with weights for 0:th order in first column.\\n    '"
      ]
     },
     "execution_count": 4,
     "metadata": {},
     "output_type": "execute_result"
    }
   ],
   "source": [
    "from finitediff import get_weights\n",
    "get_weights"
   ]
  },
  {
   "cell_type": "code",
   "execution_count": 71,
   "id": "6ec5b71d-cdfc-44ea-9967-173739e3c566",
   "metadata": {},
   "outputs": [
    {
     "name": "stdout",
     "output_type": "stream",
     "text": [
      "[ 0.  1. -1.  2. -2.  3. -3.  4. -4.  5. -5.]\n"
     ]
    }
   ],
   "source": [
    "N = 6\n",
    "pts = []\n",
    "for n in np.arange(N):\n",
    "    if n == 0:  pts.append(0.0)\n",
    "    else:\n",
    "        pts.append(n)\n",
    "        pts.append(-n)\n",
    "    \n",
    "pts = np.array(pts)\n",
    "print(pts)\n",
    "    \n",
    "    \n",
    "    \n",
    "    "
   ]
  },
  {
   "cell_type": "code",
   "execution_count": 72,
   "id": "576c2b7a-22b9-4d17-a1b8-6b4529f85865",
   "metadata": {},
   "outputs": [
    {
     "name": "stdout",
     "output_type": "stream",
     "text": [
      "Coefficients for 10th order filter\n",
      "[-252.  210.  210. -120. -120.   45.   45.  -10.  -10.    1.    1.]\n"
     ]
    }
   ],
   "source": [
    "c = get_weights(pts, 0., maxorder=2*(N-1))\n",
    "print(\"Coefficients for %dth order filter\" % (2*(N-1)))\n",
    "print(c.transpose()[-1])"
   ]
  },
  {
   "cell_type": "code",
   "execution_count": null,
   "id": "3a98a242-6628-4873-a7b9-322d9c39d2bf",
   "metadata": {},
   "outputs": [],
   "source": []
  }
 ],
 "metadata": {
  "kernelspec": {
   "display_name": "Python 3 (ipykernel)",
   "language": "python",
   "name": "python3"
  },
  "language_info": {
   "codemirror_mode": {
    "name": "ipython",
    "version": 3
   },
   "file_extension": ".py",
   "mimetype": "text/x-python",
   "name": "python",
   "nbconvert_exporter": "python",
   "pygments_lexer": "ipython3",
   "version": "3.9.7"
  }
 },
 "nbformat": 4,
 "nbformat_minor": 5
}
