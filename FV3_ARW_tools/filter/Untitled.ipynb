{
 "cells": [
  {
   "cell_type": "code",
   "execution_count": 6,
   "id": "f1300513-29c0-4f0d-8a9e-ff7676743341",
   "metadata": {},
   "outputs": [
    {
     "data": {
      "image/png": "[encoded data removed]",
      "text/plain": [
       "<Figure size 432x288 with 3 Axes>"
      ]
     },
     "metadata": {},
     "output_type": "display_data"
    }
   ],
   "source": [
    "import matplotlib.pyplot as plt\n",
    "import matplotlib.gridspec as gridspec\n",
    "\n",
    "\n",
    "def format_axes(fig):\n",
    "    for i, ax in enumerate(fig.axes):\n",
    "        ax.text(0.5, 0.5, \"ax%d\" % (i+1), va=\"center\", ha=\"center\")\n",
    "        ax.tick_params(labelbottom=False, labelleft=False)\n",
    "\n",
    "\n",
    "# gridspec inside gridspec\n",
    "fig = plt.figure()\n",
    "\n",
    "gs0 = gridspec.GridSpec(1, 2, figure=fig)\n",
    "\n",
    "gs00 = gridspec.GridSpecFromSubplotSpec(2, 1, subplot_spec=gs0[0])\n",
    "\n",
    "ax1 = fig.add_subplot(gs00[:-1, :])\n",
    "ax3 = fig.add_subplot(gs00[-1, -1])\n",
    "\n",
    "# the following syntax does the same as the GridSpecFromSubplotSpec call above:\n",
    "gs01 = gs0[1].subgridspec(1,1)\n",
    "\n",
    "#ax4 = fig.add_subplot(gs01[:, :-1])\n",
    "#ax5 = fig.add_subplot(gs01[:-1, -1])\n",
    "ax6 = fig.add_subplot(gs01[-1, -1])\n",
    "\n",
    "plt.suptitle(\"GridSpec Inside GridSpec\")\n",
    "format_axes(fig)\n",
    "\n",
    "plt.show()"
   ]
  },
  {
   "cell_type": "code",
   "execution_count": null,
   "id": "979ed6f7-0eab-483a-aaef-51e5495c5010",
   "metadata": {},
   "outputs": [],
   "source": []
  }
 ],
 "metadata": {
  "kernelspec": {
   "display_name": "Python 3 (ipykernel)",
   "language": "python",
   "name": "python3"
  },
  "language_info": {
   "codemirror_mode": {
    "name": "ipython",
    "version": 3
   },
   "file_extension": ".py",
   "mimetype": "text/x-python",
   "name": "python",
   "nbconvert_exporter": "python",
   "pygments_lexer": "ipython3",
   "version": "3.9.7"
  }
 },
 "nbformat": 4,
 "nbformat_minor": 5
}
