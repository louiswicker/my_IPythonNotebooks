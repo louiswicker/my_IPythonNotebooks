{
 "cells": [
  {
   "cell_type": "code",
   "execution_count": 5,
   "id": "8be051de-193d-4aa5-9205-e39b5c67ec1a",
   "metadata": {},
   "outputs": [
    {
     "data": {
      "text/plain": [
       "<cyfunction get_weights at 0x1051272b0>"
      ]
     },
     "execution_count": 5,
     "metadata": {},
     "output_type": "execute_result"
    }
   ],
   "source": [
    "import numpy as np\n",
    "from finitediff import get_weights\n",
    "get_weights"
   ]
  },
  {
   "cell_type": "code",
   "execution_count": 14,
   "id": "6ec5b71d-cdfc-44ea-9967-173739e3c566",
   "metadata": {},
   "outputs": [
    {
     "name": "stdout",
     "output_type": "stream",
     "text": [
      "Coefficients for 4th order filter\n",
      "[ 6. -4. -4.  1.  1.]\n"
     ]
    }
   ],
   "source": [
    "N = 3\n",
    "pts = []\n",
    "for n in np.arange(N):\n",
    "    if n == 0:  pts.append(0.0)\n",
    "    else:\n",
    "        pts.append(n)\n",
    "        pts.append(-n)\n",
    "    \n",
    "pts = np.array(pts)\n",
    "c = get_weights(pts, 0., maxorder=2*(N-1))\n",
    "print(\"Coefficients for %dth order filter\" % (2*(N-1)))\n",
    "print(c.transpose()[-1])\n",
    "    "
   ]
  },
  {
   "cell_type": "code",
   "execution_count": 11,
   "id": "576c2b7a-22b9-4d17-a1b8-6b4529f85865",
   "metadata": {},
   "outputs": [
    {
     "name": "stdout",
     "output_type": "stream",
     "text": [
      "Coefficients for 6th order filter\n",
      "[-20.  15.  15.  -6.  -6.   1.   1.]\n"
     ]
    }
   ],
   "source": [
    "N = 4\n",
    "pts = []\n",
    "for n in np.arange(N):\n",
    "    if n == 0:  pts.append(0.0)\n",
    "    else:\n",
    "        pts.append(n)\n",
    "        pts.append(-n)\n",
    "    \n",
    "pts = np.array(pts)\n",
    "c = get_weights(pts, 0., maxorder=2*(N-1))\n",
    "print(\"Coefficients for %dth order filter\" % (2*(N-1)))\n",
    "print(c.transpose()[-1])"
   ]
  },
  {
   "cell_type": "code",
   "execution_count": 12,
   "id": "3a98a242-6628-4873-a7b9-322d9c39d2bf",
   "metadata": {},
   "outputs": [
    {
     "name": "stdout",
     "output_type": "stream",
     "text": [
      "Coefficients for 8th order filter\n",
      "[ 70. -56. -56.  28.  28.  -8.  -8.   1.   1.]\n"
     ]
    }
   ],
   "source": [
    "N = 5\n",
    "pts = []\n",
    "for n in np.arange(N):\n",
    "    if n == 0:  pts.append(0.0)\n",
    "    else:\n",
    "        pts.append(n)\n",
    "        pts.append(-n)\n",
    "    \n",
    "pts = np.array(pts)\n",
    "c = get_weights(pts, 0., maxorder=2*(N-1))\n",
    "print(\"Coefficients for %dth order filter\" % (2*(N-1)))\n",
    "print(c.transpose()[-1])"
   ]
  },
  {
   "cell_type": "code",
   "execution_count": 13,
   "id": "86b884d4-5cda-4272-b93e-681aee07a4c0",
   "metadata": {},
   "outputs": [
    {
     "name": "stdout",
     "output_type": "stream",
     "text": [
      "Coefficients for 10th order filter\n",
      "[-252.  210.  210. -120. -120.   45.   45.  -10.  -10.    1.    1.]\n"
     ]
    }
   ],
   "source": [
    "N = 6\n",
    "pts = []\n",
    "for n in np.arange(N):\n",
    "    if n == 0:  pts.append(0.0)\n",
    "    else:\n",
    "        pts.append(n)\n",
    "        pts.append(-n)\n",
    "    \n",
    "pts = np.array(pts)\n",
    "c = get_weights(pts, 0., maxorder=2*(N-1))\n",
    "print(\"Coefficients for %dth order filter\" % (2*(N-1)))\n",
    "print(c.transpose()[-1])"
   ]
  },
  {
   "cell_type": "code",
   "execution_count": null,
   "id": "e4871882-293a-4e00-b50b-fbf67e3edf65",
   "metadata": {},
   "outputs": [],
   "source": []
  }
 ],
 "metadata": {
  "kernelspec": {
   "display_name": "Python 3 (ipykernel)",
   "language": "python",
   "name": "python3"
  },
  "language_info": {
   "codemirror_mode": {
    "name": "ipython",
    "version": 3
   },
   "file_extension": ".py",
   "mimetype": "text/x-python",
   "name": "python",
   "nbconvert_exporter": "python",
   "pygments_lexer": "ipython3",
   "version": "3.9.7"
  }
 },
 "nbformat": 4,
 "nbformat_minor": 5
}
